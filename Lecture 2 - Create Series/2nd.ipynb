{
 "cells": [
  {
   "cell_type": "code",
   "execution_count": 4,
   "metadata": {},
   "outputs": [],
   "source": [
    "import pandas as pd\n",
    "import numpy as np"
   ]
  },
  {
   "cell_type": "code",
   "execution_count": 2,
   "metadata": {},
   "outputs": [
    {
     "data": {
      "text/html": [
       "<div>\n",
       "<style scoped>\n",
       "    .dataframe tbody tr th:only-of-type {\n",
       "        vertical-align: middle;\n",
       "    }\n",
       "\n",
       "    .dataframe tbody tr th {\n",
       "        vertical-align: top;\n",
       "    }\n",
       "\n",
       "    .dataframe thead th {\n",
       "        text-align: right;\n",
       "    }\n",
       "</style>\n",
       "<table border=\"1\" class=\"dataframe\">\n",
       "  <thead>\n",
       "    <tr style=\"text-align: right;\">\n",
       "      <th></th>\n",
       "      <th>Date</th>\n",
       "      <th>High</th>\n",
       "      <th>Low</th>\n",
       "      <th>Open</th>\n",
       "      <th>Close</th>\n",
       "      <th>Volume</th>\n",
       "      <th>Adj Close</th>\n",
       "    </tr>\n",
       "  </thead>\n",
       "  <tbody>\n",
       "    <tr>\n",
       "      <th>0</th>\n",
       "      <td>2007-01-03</td>\n",
       "      <td>39.060001</td>\n",
       "      <td>38.049999</td>\n",
       "      <td>38.680000</td>\n",
       "      <td>38.700001</td>\n",
       "      <td>12405100</td>\n",
       "      <td>38.700001</td>\n",
       "    </tr>\n",
       "    <tr>\n",
       "      <th>1</th>\n",
       "      <td>2007-01-04</td>\n",
       "      <td>39.139999</td>\n",
       "      <td>38.259998</td>\n",
       "      <td>38.590000</td>\n",
       "      <td>38.900002</td>\n",
       "      <td>6318400</td>\n",
       "      <td>38.900002</td>\n",
       "    </tr>\n",
       "    <tr>\n",
       "      <th>2</th>\n",
       "      <td>2007-01-05</td>\n",
       "      <td>38.790001</td>\n",
       "      <td>37.599998</td>\n",
       "      <td>38.720001</td>\n",
       "      <td>38.369999</td>\n",
       "      <td>6619700</td>\n",
       "      <td>38.369999</td>\n",
       "    </tr>\n",
       "    <tr>\n",
       "      <th>3</th>\n",
       "      <td>2007-01-08</td>\n",
       "      <td>38.310001</td>\n",
       "      <td>37.169998</td>\n",
       "      <td>38.220001</td>\n",
       "      <td>37.500000</td>\n",
       "      <td>6783000</td>\n",
       "      <td>37.500000</td>\n",
       "    </tr>\n",
       "    <tr>\n",
       "      <th>4</th>\n",
       "      <td>2007-01-09</td>\n",
       "      <td>38.060001</td>\n",
       "      <td>37.340000</td>\n",
       "      <td>37.599998</td>\n",
       "      <td>37.779999</td>\n",
       "      <td>5703000</td>\n",
       "      <td>37.779999</td>\n",
       "    </tr>\n",
       "  </tbody>\n",
       "</table>\n",
       "</div>"
      ],
      "text/plain": [
       "         Date       High        Low       Open      Close    Volume  Adj Close\n",
       "0  2007-01-03  39.060001  38.049999  38.680000  38.700001  12405100  38.700001\n",
       "1  2007-01-04  39.139999  38.259998  38.590000  38.900002   6318400  38.900002\n",
       "2  2007-01-05  38.790001  37.599998  38.720001  38.369999   6619700  38.369999\n",
       "3  2007-01-08  38.310001  37.169998  38.220001  37.500000   6783000  37.500000\n",
       "4  2007-01-09  38.060001  37.340000  37.599998  37.779999   5703000  37.779999"
      ]
     },
     "execution_count": 2,
     "metadata": {},
     "output_type": "execute_result"
    }
   ],
   "source": [
    "pd.read_csv('AMZN.csv').head()"
   ]
  },
  {
   "cell_type": "code",
   "execution_count": 3,
   "metadata": {},
   "outputs": [
    {
     "data": {
      "text/plain": [
       "0    0\n",
       "1    1\n",
       "2    2\n",
       "3    3\n",
       "4    4\n",
       "dtype: int64"
      ]
     },
     "execution_count": 3,
     "metadata": {},
     "output_type": "execute_result"
    }
   ],
   "source": [
    "pd.Series(data = [0, 1, 2, 3, 4])"
   ]
  },
  {
   "cell_type": "code",
   "execution_count": 9,
   "metadata": {},
   "outputs": [
    {
     "data": {
      "text/plain": [
       "-10    0\n",
       "-9     1\n",
       "-8     2\n",
       "-7     3\n",
       "-6     4\n",
       "-5     5\n",
       "-4     6\n",
       "-3     7\n",
       "-2     8\n",
       "-1     9\n",
       "dtype: int32"
      ]
     },
     "execution_count": 9,
     "metadata": {},
     "output_type": "execute_result"
    }
   ],
   "source": [
    "pd.Series(data = np.arange(10), index = np.arange(-10, 0))"
   ]
  },
  {
   "cell_type": "code",
   "execution_count": 10,
   "metadata": {},
   "outputs": [
    {
     "data": {
      "text/plain": [
       "PC              10000\n",
       "Laptop          12000\n",
       "SmartPhone X    14000\n",
       "SmratPhone Y      980\n",
       "dtype: int64"
      ]
     },
     "execution_count": 10,
     "metadata": {},
     "output_type": "execute_result"
    }
   ],
   "source": [
    "A = {\"PC\": 10_000, \"Laptop\": 12000, \"SmartPhone X\": 14000, \"SmratPhone Y\": 980}\n",
    "\n",
    "pd.Series(A)"
   ]
  },
  {
   "cell_type": "code",
   "execution_count": 15,
   "metadata": {},
   "outputs": [
    {
     "data": {
      "text/plain": [
       "PC              10000\n",
       "Laptop          12000\n",
       "SmartPhone X    14000\n",
       "SmratPhone Y      980\n",
       "dtype: int64"
      ]
     },
     "execution_count": 15,
     "metadata": {},
     "output_type": "execute_result"
    }
   ],
   "source": [
    "pd.Series(data = A)"
   ]
  },
  {
   "cell_type": "code",
   "execution_count": 18,
   "metadata": {},
   "outputs": [
    {
     "data": {
      "text/plain": [
       "PC              10000.000000+0.000000j\n",
       "Laptop          12000.000000+0.000000j\n",
       "SmartPhone X    14000.000000+0.000000j\n",
       "SmratPhone Y      980.000000+0.000000j\n",
       "dtype: complex128"
      ]
     },
     "execution_count": 18,
     "metadata": {},
     "output_type": "execute_result"
    }
   ],
   "source": [
    "pd.Series(data = A, dtype = complex)"
   ]
  },
  {
   "cell_type": "code",
   "execution_count": 23,
   "metadata": {},
   "outputs": [
    {
     "data": {
      "text/plain": [
       "PC              10000.0\n",
       "Laptop          12000.0\n",
       "SmartPhone X    14000.0\n",
       "SmratPhone Y      980.0\n",
       "dtype: float64"
      ]
     },
     "execution_count": 23,
     "metadata": {},
     "output_type": "execute_result"
    }
   ],
   "source": [
    "pd.Series(data = A, dtype = np.float64)"
   ]
  },
  {
   "cell_type": "code",
   "execution_count": 24,
   "metadata": {},
   "outputs": [
    {
     "data": {
      "text/plain": [
       "PC              10000\n",
       "Laptop          12000\n",
       "SmartPhone X    14000\n",
       "SmratPhone Y      980\n",
       "Name: Gadjets, dtype: int64"
      ]
     },
     "execution_count": 24,
     "metadata": {},
     "output_type": "execute_result"
    }
   ],
   "source": [
    "pd.Series(data = A, name = \"Gadjets\")"
   ]
  },
  {
   "cell_type": "code",
   "execution_count": 25,
   "metadata": {},
   "outputs": [
    {
     "data": {
      "text/plain": [
       "PC              10000\n",
       "Laptop          12000\n",
       "SmartPhone X    14000\n",
       "SmratPhone Y      980\n",
       "Name: Devices, dtype: int64"
      ]
     },
     "execution_count": 25,
     "metadata": {},
     "output_type": "execute_result"
    }
   ],
   "source": [
    "pd.Series(data = A, name = \"Devices\")"
   ]
  },
  {
   "cell_type": "code",
   "execution_count": 28,
   "metadata": {},
   "outputs": [],
   "source": [
    "S1 = pd.Series(data = A, name = \"Gadjets\", copy = True)"
   ]
  },
  {
   "cell_type": "code",
   "execution_count": 30,
   "metadata": {},
   "outputs": [
    {
     "data": {
      "text/plain": [
       "PC              10000\n",
       "Laptop          12000\n",
       "SmartPhone X    14000\n",
       "SmratPhone Y      980\n",
       "Name: Gadjets, dtype: int64"
      ]
     },
     "execution_count": 30,
     "metadata": {},
     "output_type": "execute_result"
    }
   ],
   "source": [
    "S1"
   ]
  },
  {
   "cell_type": "code",
   "execution_count": null,
   "metadata": {},
   "outputs": [],
   "source": []
  }
 ],
 "metadata": {
  "kernelspec": {
   "display_name": "Python 3",
   "language": "python",
   "name": "python3"
  },
  "language_info": {
   "codemirror_mode": {
    "name": "ipython",
    "version": 3
   },
   "file_extension": ".py",
   "mimetype": "text/x-python",
   "name": "python",
   "nbconvert_exporter": "python",
   "pygments_lexer": "ipython3",
   "version": "3.7.6"
  }
 },
 "nbformat": 4,
 "nbformat_minor": 4
}
