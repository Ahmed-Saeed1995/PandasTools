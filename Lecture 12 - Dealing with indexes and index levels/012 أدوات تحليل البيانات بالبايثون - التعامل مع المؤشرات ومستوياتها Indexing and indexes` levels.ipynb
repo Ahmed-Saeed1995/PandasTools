{
 "cells": [
  {
   "cell_type": "code",
   "execution_count": 1,
   "metadata": {},
   "outputs": [],
   "source": [
    "import pandas as pd"
   ]
  },
  {
   "cell_type": "code",
   "execution_count": 5,
   "metadata": {},
   "outputs": [],
   "source": [
    "dict({\"column-Name\": dict({tuple((\"Index-0\", \"Index-1\", \"Index-2\")): \"Value\"})})\n",
    "df = pd.DataFrame(dict({\"column-Name\": dict({tuple((\"Index-0\", \"Index-1\", \"Index-2\")): \"Value\"})}))"
   ]
  },
  {
   "cell_type": "code",
   "execution_count": 14,
   "metadata": {},
   "outputs": [],
   "source": [
    "df.index = df.index.droplevel(level =1)"
   ]
  },
  {
   "cell_type": "code",
   "execution_count": 15,
   "metadata": {},
   "outputs": [
    {
     "data": {
      "text/html": [
       "<div>\n",
       "<style scoped>\n",
       "    .dataframe tbody tr th:only-of-type {\n",
       "        vertical-align: middle;\n",
       "    }\n",
       "\n",
       "    .dataframe tbody tr th {\n",
       "        vertical-align: top;\n",
       "    }\n",
       "\n",
       "    .dataframe thead th {\n",
       "        text-align: right;\n",
       "    }\n",
       "</style>\n",
       "<table border=\"1\" class=\"dataframe\">\n",
       "  <thead>\n",
       "    <tr style=\"text-align: right;\">\n",
       "      <th></th>\n",
       "      <th>column-Name</th>\n",
       "    </tr>\n",
       "  </thead>\n",
       "  <tbody>\n",
       "    <tr>\n",
       "      <th>Index-1</th>\n",
       "      <td>Value</td>\n",
       "    </tr>\n",
       "  </tbody>\n",
       "</table>\n",
       "</div>"
      ],
      "text/plain": [
       "        column-Name\n",
       "Index-1       Value"
      ]
     },
     "execution_count": 15,
     "metadata": {},
     "output_type": "execute_result"
    }
   ],
   "source": [
    "df"
   ]
  },
  {
   "cell_type": "code",
   "execution_count": 100,
   "metadata": {},
   "outputs": [],
   "source": [
    "df = pd.read_csv('Pizza_levels.csv', header = [0, 1], index_col = [0, 1])"
   ]
  },
  {
   "cell_type": "code",
   "execution_count": 25,
   "metadata": {},
   "outputs": [
    {
     "data": {
      "text/plain": [
       "Numerical    Diameter          22\n",
       "Categorical  Type            Beef\n",
       "             Size           Large\n",
       "Numerical    Price            500\n",
       "Categorical  Extra_Sauce      yes\n",
       "Name: Local, dtype: object"
      ]
     },
     "execution_count": 25,
     "metadata": {},
     "output_type": "execute_result"
    }
   ],
   "source": [
    "df.loc['A'].loc['Local']"
   ]
  },
  {
   "cell_type": "code",
   "execution_count": 52,
   "metadata": {},
   "outputs": [
    {
     "data": {
      "text/plain": [
       "500"
      ]
     },
     "execution_count": 52,
     "metadata": {},
     "output_type": "execute_result"
    }
   ],
   "source": [
    "df.loc['A'].loc['Local'].Numerical.Price"
   ]
  },
  {
   "cell_type": "code",
   "execution_count": 56,
   "metadata": {},
   "outputs": [
    {
     "data": {
      "text/plain": [
       "500"
      ]
     },
     "execution_count": 56,
     "metadata": {},
     "output_type": "execute_result"
    }
   ],
   "source": [
    "df.Numerical.Price.loc['A'].loc['Local']"
   ]
  },
  {
   "cell_type": "code",
   "execution_count": 32,
   "metadata": {},
   "outputs": [
    {
     "data": {
      "text/plain": [
       "22"
      ]
     },
     "execution_count": 32,
     "metadata": {},
     "output_type": "execute_result"
    }
   ],
   "source": [
    "df.loc['A'].loc['Local'].Numerical.Diameter"
   ]
  },
  {
   "cell_type": "code",
   "execution_count": 35,
   "metadata": {},
   "outputs": [
    {
     "data": {
      "text/plain": [
       "22"
      ]
     },
     "execution_count": 35,
     "metadata": {},
     "output_type": "execute_result"
    }
   ],
   "source": [
    "df.loc['A'].loc['Local']['Numerical']['Diameter']"
   ]
  },
  {
   "cell_type": "code",
   "execution_count": 41,
   "metadata": {},
   "outputs": [
    {
     "data": {
      "text/plain": [
       "'classic'"
      ]
     },
     "execution_count": 41,
     "metadata": {},
     "output_type": "execute_result"
    }
   ],
   "source": [
    "df.loc['D'].loc['London']['Categorical'].Type\n",
    "df.loc['D'].loc['London']['Categorical']['Type']"
   ]
  },
  {
   "cell_type": "code",
   "execution_count": 47,
   "metadata": {},
   "outputs": [
    {
     "data": {
      "text/plain": [
       "'no'"
      ]
     },
     "execution_count": 47,
     "metadata": {},
     "output_type": "execute_result"
    }
   ],
   "source": [
    "df.loc['E'].loc['Greek']['Categorical'].Extra_Sauce   \n",
    "df.loc['E'].loc['Greek'].Categorical.Extra_Sauce        "
   ]
  },
  {
   "cell_type": "code",
   "execution_count": 51,
   "metadata": {},
   "outputs": [
    {
     "data": {
      "text/plain": [
       "'no'"
      ]
     },
     "execution_count": 51,
     "metadata": {},
     "output_type": "execute_result"
    }
   ],
   "source": [
    "df.Categorical.Extra_Sauce.loc['E'].loc['Greek']"
   ]
  },
  {
   "cell_type": "code",
   "execution_count": 58,
   "metadata": {},
   "outputs": [
    {
     "data": {
      "text/html": [
       "<div>\n",
       "<style scoped>\n",
       "    .dataframe tbody tr th:only-of-type {\n",
       "        vertical-align: middle;\n",
       "    }\n",
       "\n",
       "    .dataframe tbody tr th {\n",
       "        vertical-align: top;\n",
       "    }\n",
       "\n",
       "    .dataframe thead tr th {\n",
       "        text-align: left;\n",
       "    }\n",
       "</style>\n",
       "<table border=\"1\" class=\"dataframe\">\n",
       "  <thead>\n",
       "    <tr>\n",
       "      <th></th>\n",
       "      <th>Numerical</th>\n",
       "      <th colspan=\"2\" halign=\"left\">Categorical</th>\n",
       "      <th>Numerical</th>\n",
       "      <th>Categorical</th>\n",
       "    </tr>\n",
       "    <tr>\n",
       "      <th></th>\n",
       "      <th>Diameter</th>\n",
       "      <th>Type</th>\n",
       "      <th>Size</th>\n",
       "      <th>Price</th>\n",
       "      <th>Extra_Sauce</th>\n",
       "    </tr>\n",
       "  </thead>\n",
       "  <tbody>\n",
       "    <tr>\n",
       "      <th>Local</th>\n",
       "      <td>22</td>\n",
       "      <td>Beef</td>\n",
       "      <td>Large</td>\n",
       "      <td>500</td>\n",
       "      <td>yes</td>\n",
       "    </tr>\n",
       "  </tbody>\n",
       "</table>\n",
       "</div>"
      ],
      "text/plain": [
       "      Numerical Categorical        Numerical Categorical\n",
       "       Diameter        Type   Size     Price Extra_Sauce\n",
       "Local        22        Beef  Large       500         yes"
      ]
     },
     "execution_count": 58,
     "metadata": {},
     "output_type": "execute_result"
    }
   ],
   "source": [
    "df.loc['A']"
   ]
  },
  {
   "cell_type": "code",
   "execution_count": 60,
   "metadata": {},
   "outputs": [
    {
     "data": {
      "text/plain": [
       "pandas.core.series.Series"
      ]
     },
     "execution_count": 60,
     "metadata": {},
     "output_type": "execute_result"
    }
   ],
   "source": [
    "type(df.iloc[0])"
   ]
  },
  {
   "cell_type": "code",
   "execution_count": 64,
   "metadata": {},
   "outputs": [
    {
     "data": {
      "text/html": [
       "<div>\n",
       "<style scoped>\n",
       "    .dataframe tbody tr th:only-of-type {\n",
       "        vertical-align: middle;\n",
       "    }\n",
       "\n",
       "    .dataframe tbody tr th {\n",
       "        vertical-align: top;\n",
       "    }\n",
       "\n",
       "    .dataframe thead tr th {\n",
       "        text-align: left;\n",
       "    }\n",
       "</style>\n",
       "<table border=\"1\" class=\"dataframe\">\n",
       "  <thead>\n",
       "    <tr>\n",
       "      <th></th>\n",
       "      <th></th>\n",
       "      <th>Numerical</th>\n",
       "      <th colspan=\"2\" halign=\"left\">Categorical</th>\n",
       "      <th>Numerical</th>\n",
       "      <th>Categorical</th>\n",
       "    </tr>\n",
       "    <tr>\n",
       "      <th></th>\n",
       "      <th></th>\n",
       "      <th>Diameter</th>\n",
       "      <th>Type</th>\n",
       "      <th>Size</th>\n",
       "      <th>Price</th>\n",
       "      <th>Extra_Sauce</th>\n",
       "    </tr>\n",
       "  </thead>\n",
       "  <tbody>\n",
       "    <tr>\n",
       "      <th>A</th>\n",
       "      <th>Local</th>\n",
       "      <td>22</td>\n",
       "      <td>Beef</td>\n",
       "      <td>Large</td>\n",
       "      <td>500</td>\n",
       "      <td>yes</td>\n",
       "    </tr>\n",
       "  </tbody>\n",
       "</table>\n",
       "</div>"
      ],
      "text/plain": [
       "        Numerical Categorical        Numerical Categorical\n",
       "         Diameter        Type   Size     Price Extra_Sauce\n",
       "A Local        22        Beef  Large       500         yes"
      ]
     },
     "execution_count": 64,
     "metadata": {},
     "output_type": "execute_result"
    }
   ],
   "source": [
    "df.iloc[0].to_frame().T"
   ]
  },
  {
   "cell_type": "code",
   "execution_count": 67,
   "metadata": {},
   "outputs": [
    {
     "data": {
      "text/plain": [
       "Numerical    Diameter               16\n",
       "Categorical  Type           Mozzarella\n",
       "             Size               Medium\n",
       "Numerical    Price                 300\n",
       "Categorical  Extra_Sauce            no\n",
       "Name: (C, UK), dtype: object"
      ]
     },
     "execution_count": 67,
     "metadata": {},
     "output_type": "execute_result"
    }
   ],
   "source": [
    "df.iloc[2]"
   ]
  },
  {
   "cell_type": "code",
   "execution_count": 69,
   "metadata": {},
   "outputs": [
    {
     "data": {
      "text/html": [
       "<div>\n",
       "<style scoped>\n",
       "    .dataframe tbody tr th:only-of-type {\n",
       "        vertical-align: middle;\n",
       "    }\n",
       "\n",
       "    .dataframe tbody tr th {\n",
       "        vertical-align: top;\n",
       "    }\n",
       "\n",
       "    .dataframe thead tr th {\n",
       "        text-align: left;\n",
       "    }\n",
       "</style>\n",
       "<table border=\"1\" class=\"dataframe\">\n",
       "  <thead>\n",
       "    <tr>\n",
       "      <th></th>\n",
       "      <th></th>\n",
       "      <th>Numerical</th>\n",
       "      <th colspan=\"2\" halign=\"left\">Categorical</th>\n",
       "      <th>Numerical</th>\n",
       "      <th>Categorical</th>\n",
       "    </tr>\n",
       "    <tr>\n",
       "      <th></th>\n",
       "      <th></th>\n",
       "      <th>Diameter</th>\n",
       "      <th>Type</th>\n",
       "      <th>Size</th>\n",
       "      <th>Price</th>\n",
       "      <th>Extra_Sauce</th>\n",
       "    </tr>\n",
       "  </thead>\n",
       "  <tbody>\n",
       "    <tr>\n",
       "      <th>A</th>\n",
       "      <th>Local</th>\n",
       "      <td>22</td>\n",
       "      <td>Beef</td>\n",
       "      <td>Large</td>\n",
       "      <td>500</td>\n",
       "      <td>yes</td>\n",
       "    </tr>\n",
       "    <tr>\n",
       "      <th>B</th>\n",
       "      <th>Turky</th>\n",
       "      <td>20</td>\n",
       "      <td>Checken</td>\n",
       "      <td>Jambo</td>\n",
       "      <td>350</td>\n",
       "      <td>yes</td>\n",
       "    </tr>\n",
       "    <tr>\n",
       "      <th>C</th>\n",
       "      <th>UK</th>\n",
       "      <td>16</td>\n",
       "      <td>Mozzarella</td>\n",
       "      <td>Medium</td>\n",
       "      <td>300</td>\n",
       "      <td>no</td>\n",
       "    </tr>\n",
       "    <tr>\n",
       "      <th>D</th>\n",
       "      <th>London</th>\n",
       "      <td>14</td>\n",
       "      <td>classic</td>\n",
       "      <td>Small</td>\n",
       "      <td>150</td>\n",
       "      <td>yes</td>\n",
       "    </tr>\n",
       "    <tr>\n",
       "      <th>E</th>\n",
       "      <th>Greek</th>\n",
       "      <td>20</td>\n",
       "      <td>Cheese</td>\n",
       "      <td>Medium</td>\n",
       "      <td>250</td>\n",
       "      <td>no</td>\n",
       "    </tr>\n",
       "  </tbody>\n",
       "</table>\n",
       "</div>"
      ],
      "text/plain": [
       "         Numerical Categorical         Numerical Categorical\n",
       "          Diameter        Type    Size     Price Extra_Sauce\n",
       "A Local         22        Beef   Large       500         yes\n",
       "B Turky         20     Checken   Jambo       350         yes\n",
       "C UK            16  Mozzarella  Medium       300          no\n",
       "D London        14     classic   Small       150         yes\n",
       "E Greek         20      Cheese  Medium       250          no"
      ]
     },
     "execution_count": 69,
     "metadata": {},
     "output_type": "execute_result"
    }
   ],
   "source": [
    "df.head()"
   ]
  },
  {
   "cell_type": "code",
   "execution_count": 71,
   "metadata": {},
   "outputs": [
    {
     "data": {
      "text/html": [
       "<div>\n",
       "<style scoped>\n",
       "    .dataframe tbody tr th:only-of-type {\n",
       "        vertical-align: middle;\n",
       "    }\n",
       "\n",
       "    .dataframe tbody tr th {\n",
       "        vertical-align: top;\n",
       "    }\n",
       "\n",
       "    .dataframe thead tr th {\n",
       "        text-align: left;\n",
       "    }\n",
       "</style>\n",
       "<table border=\"1\" class=\"dataframe\">\n",
       "  <thead>\n",
       "    <tr>\n",
       "      <th></th>\n",
       "      <th></th>\n",
       "      <th>Numerical</th>\n",
       "      <th colspan=\"2\" halign=\"left\">Categorical</th>\n",
       "      <th>Numerical</th>\n",
       "      <th>Categorical</th>\n",
       "    </tr>\n",
       "    <tr>\n",
       "      <th></th>\n",
       "      <th></th>\n",
       "      <th>Diameter</th>\n",
       "      <th>Type</th>\n",
       "      <th>Size</th>\n",
       "      <th>Price</th>\n",
       "      <th>Extra_Sauce</th>\n",
       "    </tr>\n",
       "  </thead>\n",
       "  <tbody>\n",
       "    <tr>\n",
       "      <th>C</th>\n",
       "      <th>UK</th>\n",
       "      <td>16</td>\n",
       "      <td>Mozzarella</td>\n",
       "      <td>Medium</td>\n",
       "      <td>300</td>\n",
       "      <td>no</td>\n",
       "    </tr>\n",
       "    <tr>\n",
       "      <th>D</th>\n",
       "      <th>London</th>\n",
       "      <td>14</td>\n",
       "      <td>classic</td>\n",
       "      <td>Small</td>\n",
       "      <td>150</td>\n",
       "      <td>yes</td>\n",
       "    </tr>\n",
       "    <tr>\n",
       "      <th>E</th>\n",
       "      <th>Greek</th>\n",
       "      <td>20</td>\n",
       "      <td>Cheese</td>\n",
       "      <td>Medium</td>\n",
       "      <td>250</td>\n",
       "      <td>no</td>\n",
       "    </tr>\n",
       "  </tbody>\n",
       "</table>\n",
       "</div>"
      ],
      "text/plain": [
       "         Numerical Categorical         Numerical Categorical\n",
       "          Diameter        Type    Size     Price Extra_Sauce\n",
       "C UK            16  Mozzarella  Medium       300          no\n",
       "D London        14     classic   Small       150         yes\n",
       "E Greek         20      Cheese  Medium       250          no"
      ]
     },
     "execution_count": 71,
     "metadata": {},
     "output_type": "execute_result"
    }
   ],
   "source": [
    "df[\"C\": \"E\"]\n",
    "df.loc[\"C\": \"E\"]"
   ]
  },
  {
   "cell_type": "code",
   "execution_count": 72,
   "metadata": {},
   "outputs": [
    {
     "data": {
      "text/html": [
       "<div>\n",
       "<style scoped>\n",
       "    .dataframe tbody tr th:only-of-type {\n",
       "        vertical-align: middle;\n",
       "    }\n",
       "\n",
       "    .dataframe tbody tr th {\n",
       "        vertical-align: top;\n",
       "    }\n",
       "\n",
       "    .dataframe thead tr th {\n",
       "        text-align: left;\n",
       "    }\n",
       "</style>\n",
       "<table border=\"1\" class=\"dataframe\">\n",
       "  <thead>\n",
       "    <tr>\n",
       "      <th></th>\n",
       "      <th></th>\n",
       "      <th>Numerical</th>\n",
       "      <th colspan=\"2\" halign=\"left\">Categorical</th>\n",
       "      <th>Numerical</th>\n",
       "      <th>Categorical</th>\n",
       "    </tr>\n",
       "    <tr>\n",
       "      <th></th>\n",
       "      <th></th>\n",
       "      <th>Diameter</th>\n",
       "      <th>Type</th>\n",
       "      <th>Size</th>\n",
       "      <th>Price</th>\n",
       "      <th>Extra_Sauce</th>\n",
       "    </tr>\n",
       "  </thead>\n",
       "  <tbody>\n",
       "    <tr>\n",
       "      <th>C</th>\n",
       "      <th>UK</th>\n",
       "      <td>16</td>\n",
       "      <td>Mozzarella</td>\n",
       "      <td>Medium</td>\n",
       "      <td>300</td>\n",
       "      <td>no</td>\n",
       "    </tr>\n",
       "    <tr>\n",
       "      <th>D</th>\n",
       "      <th>London</th>\n",
       "      <td>14</td>\n",
       "      <td>classic</td>\n",
       "      <td>Small</td>\n",
       "      <td>150</td>\n",
       "      <td>yes</td>\n",
       "    </tr>\n",
       "    <tr>\n",
       "      <th>E</th>\n",
       "      <th>Greek</th>\n",
       "      <td>20</td>\n",
       "      <td>Cheese</td>\n",
       "      <td>Medium</td>\n",
       "      <td>250</td>\n",
       "      <td>no</td>\n",
       "    </tr>\n",
       "  </tbody>\n",
       "</table>\n",
       "</div>"
      ],
      "text/plain": [
       "         Numerical Categorical         Numerical Categorical\n",
       "          Diameter        Type    Size     Price Extra_Sauce\n",
       "C UK            16  Mozzarella  Medium       300          no\n",
       "D London        14     classic   Small       150         yes\n",
       "E Greek         20      Cheese  Medium       250          no"
      ]
     },
     "execution_count": 72,
     "metadata": {},
     "output_type": "execute_result"
    }
   ],
   "source": [
    "df.iloc[2: 5]"
   ]
  },
  {
   "cell_type": "code",
   "execution_count": 78,
   "metadata": {},
   "outputs": [
    {
     "data": {
      "text/plain": [
       "300"
      ]
     },
     "execution_count": 78,
     "metadata": {},
     "output_type": "execute_result"
    }
   ],
   "source": [
    "df.iloc[2: 5]['Numerical']['Price'].loc[\"C\"].loc['UK']"
   ]
  },
  {
   "cell_type": "code",
   "execution_count": 81,
   "metadata": {},
   "outputs": [
    {
     "data": {
      "text/plain": [
       "C  UK        300\n",
       "D  London    150\n",
       "E  Greek     250\n",
       "Name: Price, dtype: int64"
      ]
     },
     "execution_count": 81,
     "metadata": {},
     "output_type": "execute_result"
    }
   ],
   "source": [
    "df.iloc[2: 5]['Numerical']['Price']"
   ]
  },
  {
   "cell_type": "code",
   "execution_count": 80,
   "metadata": {
    "scrolled": true
   },
   "outputs": [
    {
     "data": {
      "text/plain": [
       "300"
      ]
     },
     "execution_count": 80,
     "metadata": {},
     "output_type": "execute_result"
    }
   ],
   "source": [
    "df.iloc[2: 5]['Numerical']['Price'].iloc[0]"
   ]
  },
  {
   "cell_type": "code",
   "execution_count": 83,
   "metadata": {},
   "outputs": [
    {
     "data": {
      "text/plain": [
       "250"
      ]
     },
     "execution_count": 83,
     "metadata": {},
     "output_type": "execute_result"
    }
   ],
   "source": [
    "df.iloc[2: 5]['Numerical']['Price'].iloc[2]"
   ]
  },
  {
   "cell_type": "code",
   "execution_count": 91,
   "metadata": {},
   "outputs": [
    {
     "data": {
      "text/html": [
       "<div>\n",
       "<style scoped>\n",
       "    .dataframe tbody tr th:only-of-type {\n",
       "        vertical-align: middle;\n",
       "    }\n",
       "\n",
       "    .dataframe tbody tr th {\n",
       "        vertical-align: top;\n",
       "    }\n",
       "\n",
       "    .dataframe thead th {\n",
       "        text-align: right;\n",
       "    }\n",
       "</style>\n",
       "<table border=\"1\" class=\"dataframe\">\n",
       "  <thead>\n",
       "    <tr style=\"text-align: right;\">\n",
       "      <th></th>\n",
       "      <th></th>\n",
       "      <th>Type</th>\n",
       "      <th>Size</th>\n",
       "      <th>Extra_Sauce</th>\n",
       "    </tr>\n",
       "  </thead>\n",
       "  <tbody>\n",
       "    <tr>\n",
       "      <th>D</th>\n",
       "      <th>London</th>\n",
       "      <td>classic</td>\n",
       "      <td>Small</td>\n",
       "      <td>yes</td>\n",
       "    </tr>\n",
       "    <tr>\n",
       "      <th>E</th>\n",
       "      <th>Greek</th>\n",
       "      <td>Cheese</td>\n",
       "      <td>Medium</td>\n",
       "      <td>no</td>\n",
       "    </tr>\n",
       "    <tr>\n",
       "      <th>F</th>\n",
       "      <th>California</th>\n",
       "      <td>Mozzarella Beef-Cheese</td>\n",
       "      <td>Large</td>\n",
       "      <td>yes</td>\n",
       "    </tr>\n",
       "  </tbody>\n",
       "</table>\n",
       "</div>"
      ],
      "text/plain": [
       "                                Type    Size Extra_Sauce\n",
       "D London                     classic   Small         yes\n",
       "E Greek                       Cheese  Medium          no\n",
       "F California  Mozzarella Beef-Cheese   Large         yes"
      ]
     },
     "execution_count": 91,
     "metadata": {},
     "output_type": "execute_result"
    }
   ],
   "source": [
    "df['Categorical'].iloc[3: 6]\n",
    "# df['Categorical'].iloc[2: 5]"
   ]
  },
  {
   "cell_type": "code",
   "execution_count": 90,
   "metadata": {},
   "outputs": [
    {
     "data": {
      "text/html": [
       "<div>\n",
       "<style scoped>\n",
       "    .dataframe tbody tr th:only-of-type {\n",
       "        vertical-align: middle;\n",
       "    }\n",
       "\n",
       "    .dataframe tbody tr th {\n",
       "        vertical-align: top;\n",
       "    }\n",
       "\n",
       "    .dataframe thead th {\n",
       "        text-align: right;\n",
       "    }\n",
       "</style>\n",
       "<table border=\"1\" class=\"dataframe\">\n",
       "  <thead>\n",
       "    <tr style=\"text-align: right;\">\n",
       "      <th></th>\n",
       "      <th></th>\n",
       "      <th>Diameter</th>\n",
       "      <th>Price</th>\n",
       "    </tr>\n",
       "  </thead>\n",
       "  <tbody>\n",
       "    <tr>\n",
       "      <th>C</th>\n",
       "      <th>UK</th>\n",
       "      <td>16</td>\n",
       "      <td>300</td>\n",
       "    </tr>\n",
       "    <tr>\n",
       "      <th>D</th>\n",
       "      <th>London</th>\n",
       "      <td>14</td>\n",
       "      <td>150</td>\n",
       "    </tr>\n",
       "    <tr>\n",
       "      <th>E</th>\n",
       "      <th>Greek</th>\n",
       "      <td>20</td>\n",
       "      <td>250</td>\n",
       "    </tr>\n",
       "  </tbody>\n",
       "</table>\n",
       "</div>"
      ],
      "text/plain": [
       "          Diameter  Price\n",
       "C UK            16    300\n",
       "D London        14    150\n",
       "E Greek         20    250"
      ]
     },
     "execution_count": 90,
     "metadata": {},
     "output_type": "execute_result"
    }
   ],
   "source": [
    "df['Numerical'].iloc[2: 5]"
   ]
  },
  {
   "cell_type": "code",
   "execution_count": 104,
   "metadata": {},
   "outputs": [],
   "source": [
    "df.columns = df.columns.droplevel(level = 1)"
   ]
  },
  {
   "cell_type": "code",
   "execution_count": null,
   "metadata": {},
   "outputs": [],
   "source": [
    "df.index = df.index.droplevel(level = 0)"
   ]
  },
  {
   "cell_type": "code",
   "execution_count": 106,
   "metadata": {},
   "outputs": [
    {
     "data": {
      "text/html": [
       "<div>\n",
       "<style scoped>\n",
       "    .dataframe tbody tr th:only-of-type {\n",
       "        vertical-align: middle;\n",
       "    }\n",
       "\n",
       "    .dataframe tbody tr th {\n",
       "        vertical-align: top;\n",
       "    }\n",
       "\n",
       "    .dataframe thead th {\n",
       "        text-align: right;\n",
       "    }\n",
       "</style>\n",
       "<table border=\"1\" class=\"dataframe\">\n",
       "  <thead>\n",
       "    <tr style=\"text-align: right;\">\n",
       "      <th></th>\n",
       "      <th>Numerical</th>\n",
       "      <th>Categorical</th>\n",
       "      <th>Categorical</th>\n",
       "      <th>Numerical</th>\n",
       "      <th>Categorical</th>\n",
       "    </tr>\n",
       "  </thead>\n",
       "  <tbody>\n",
       "    <tr>\n",
       "      <th>Local</th>\n",
       "      <td>22</td>\n",
       "      <td>Beef</td>\n",
       "      <td>Large</td>\n",
       "      <td>500</td>\n",
       "      <td>yes</td>\n",
       "    </tr>\n",
       "    <tr>\n",
       "      <th>Turky</th>\n",
       "      <td>20</td>\n",
       "      <td>Checken</td>\n",
       "      <td>Jambo</td>\n",
       "      <td>350</td>\n",
       "      <td>yes</td>\n",
       "    </tr>\n",
       "    <tr>\n",
       "      <th>UK</th>\n",
       "      <td>16</td>\n",
       "      <td>Mozzarella</td>\n",
       "      <td>Medium</td>\n",
       "      <td>300</td>\n",
       "      <td>no</td>\n",
       "    </tr>\n",
       "    <tr>\n",
       "      <th>London</th>\n",
       "      <td>14</td>\n",
       "      <td>classic</td>\n",
       "      <td>Small</td>\n",
       "      <td>150</td>\n",
       "      <td>yes</td>\n",
       "    </tr>\n",
       "    <tr>\n",
       "      <th>Greek</th>\n",
       "      <td>20</td>\n",
       "      <td>Cheese</td>\n",
       "      <td>Medium</td>\n",
       "      <td>250</td>\n",
       "      <td>no</td>\n",
       "    </tr>\n",
       "    <tr>\n",
       "      <th>California</th>\n",
       "      <td>25</td>\n",
       "      <td>Mozzarella Beef-Cheese</td>\n",
       "      <td>Large</td>\n",
       "      <td>600</td>\n",
       "      <td>yes</td>\n",
       "    </tr>\n",
       "  </tbody>\n",
       "</table>\n",
       "</div>"
      ],
      "text/plain": [
       "            Numerical             Categorical Categorical  Numerical  \\\n",
       "Local              22                    Beef       Large        500   \n",
       "Turky              20                 Checken       Jambo        350   \n",
       "UK                 16              Mozzarella      Medium        300   \n",
       "London             14                 classic       Small        150   \n",
       "Greek              20                  Cheese      Medium        250   \n",
       "California         25  Mozzarella Beef-Cheese       Large        600   \n",
       "\n",
       "           Categorical  \n",
       "Local              yes  \n",
       "Turky              yes  \n",
       "UK                  no  \n",
       "London             yes  \n",
       "Greek               no  \n",
       "California         yes  "
      ]
     },
     "execution_count": 106,
     "metadata": {},
     "output_type": "execute_result"
    }
   ],
   "source": [
    "df"
   ]
  },
  {
   "cell_type": "code",
   "execution_count": null,
   "metadata": {},
   "outputs": [],
   "source": []
  }
 ],
 "metadata": {
  "kernelspec": {
   "display_name": "Python 3",
   "language": "python",
   "name": "python3"
  },
  "language_info": {
   "codemirror_mode": {
    "name": "ipython",
    "version": 3
   },
   "file_extension": ".py",
   "mimetype": "text/x-python",
   "name": "python",
   "nbconvert_exporter": "python",
   "pygments_lexer": "ipython3",
   "version": "3.7.6"
  }
 },
 "nbformat": 4,
 "nbformat_minor": 4
}
